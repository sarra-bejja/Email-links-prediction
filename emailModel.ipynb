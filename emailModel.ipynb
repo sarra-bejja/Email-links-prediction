{
 "cells": [
  {
   "cell_type": "code",
   "execution_count": 1,
   "metadata": {},
   "outputs": [],
   "source": [
    "from pyspark.sql import SparkSession"
   ]
  },
  {
   "cell_type": "code",
   "execution_count": 2,
   "metadata": {},
   "outputs": [
    {
     "name": "stdout",
     "output_type": "stream",
     "text": [
      "3.5.3\n"
     ]
    }
   ],
   "source": [
    "#i strated a session and tested it\n",
    "\n",
    "spark = SparkSession.builder \\\n",
    "    .appName(\"PhishTounsi_Emails\") \\\n",
    "    .getOrCreate()\n",
    "\n",
    "\n",
    "print(spark.version)"
   ]
  },
  {
   "cell_type": "code",
   "execution_count": 3,
   "metadata": {},
   "outputs": [
    {
     "name": "stdout",
     "output_type": "stream",
     "text": [
      "+--------+--------------------+\n",
      "|Category|             Message|\n",
      "+--------+--------------------+\n",
      "|     ham|Go until jurong p...|\n",
      "|     ham|Ok lar... Joking ...|\n",
      "|    spam|Free entry in 2 a...|\n",
      "|     ham|U dun say so earl...|\n",
      "|     ham|Nah I don't think...|\n",
      "+--------+--------------------+\n",
      "only showing top 5 rows\n",
      "\n"
     ]
    }
   ],
   "source": [
    "emails_df = spark.read.csv(\"Emailsfile.csv\", header=True, inferSchema=True)\n",
    "\n",
    "emails_df.show(5)"
   ]
  },
  {
   "cell_type": "code",
   "execution_count": 4,
   "metadata": {},
   "outputs": [
    {
     "name": "stdout",
     "output_type": "stream",
     "text": [
      "+--------+--------------------+-----+\n",
      "|Category|             Message|label|\n",
      "+--------+--------------------+-----+\n",
      "|     ham|Go until jurong p...|    0|\n",
      "|     ham|Ok lar... Joking ...|    0|\n",
      "|    spam|Free entry in 2 a...|    1|\n",
      "|     ham|U dun say so earl...|    0|\n",
      "|     ham|Nah I don't think...|    0|\n",
      "|    spam|FreeMsg Hey there...|    1|\n",
      "|     ham|Even my brother i...|    0|\n",
      "|     ham|As per your reque...|    0|\n",
      "|    spam|WINNER!! As a val...|    1|\n",
      "|    spam|Had your mobile 1...|    1|\n",
      "|     ham|I'm gonna be home...|    0|\n",
      "|    spam|SIX chances to wi...|    1|\n",
      "|    spam|URGENT! You have ...|    1|\n",
      "|     ham|I've been searchi...|    0|\n",
      "|     ham|I HAVE A DATE ON ...|    0|\n",
      "|    spam|XXXMobileMovieClu...|    1|\n",
      "|     ham|Oh k...i'm watchi...|    0|\n",
      "|     ham|Eh u remember how...|    0|\n",
      "|     ham|Fine if thats th...|    0|\n",
      "|    spam|England v Macedon...|    1|\n",
      "+--------+--------------------+-----+\n",
      "only showing top 20 rows\n",
      "\n"
     ]
    }
   ],
   "source": [
    "from pyspark.sql.functions import when\n",
    "\n",
    "emails_df = emails_df.withColumn(\"label\", when(emails_df[\"Category\"] == \"spam\", 1).otherwise(0))\n",
    "\n",
    "emails_df.show(20)\n"
   ]
  },
  {
   "cell_type": "code",
   "execution_count": 5,
   "metadata": {},
   "outputs": [
    {
     "name": "stdout",
     "output_type": "stream",
     "text": [
      "+--------+--------------------+-----+------------+\n",
      "|Category|             Message|label|email_length|\n",
      "+--------+--------------------+-----+------------+\n",
      "|     ham|Go until jurong p...|    0|         111|\n",
      "|     ham|Ok lar... Joking ...|    0|          29|\n",
      "|    spam|Free entry in 2 a...|    1|         155|\n",
      "|     ham|U dun say so earl...|    0|          49|\n",
      "|     ham|Nah I don't think...|    0|          61|\n",
      "|    spam|FreeMsg Hey there...|    1|         147|\n",
      "|     ham|Even my brother i...|    0|          77|\n",
      "|     ham|As per your reque...|    0|         160|\n",
      "|    spam|WINNER!! As a val...|    1|         157|\n",
      "|    spam|Had your mobile 1...|    1|         154|\n",
      "|     ham|I'm gonna be home...|    0|         109|\n",
      "|    spam|SIX chances to wi...|    1|         136|\n",
      "|    spam|URGENT! You have ...|    1|         155|\n",
      "|     ham|I've been searchi...|    0|         196|\n",
      "|     ham|I HAVE A DATE ON ...|    0|          35|\n",
      "|    spam|XXXMobileMovieClu...|    1|         149|\n",
      "|     ham|Oh k...i'm watchi...|    0|          26|\n",
      "|     ham|Eh u remember how...|    0|          81|\n",
      "|     ham|Fine if thats th...|    0|          56|\n",
      "|    spam|England v Macedon...|    1|         155|\n",
      "+--------+--------------------+-----+------------+\n",
      "only showing top 20 rows\n",
      "\n"
     ]
    }
   ],
   "source": [
    "from pyspark.sql.functions import length\n",
    "\n",
    "emails_df = emails_df.withColumn(\"email_length\", length(emails_df[\"Message\"]))\n",
    "\n",
    "emails_df.show(20)"
   ]
  },
  {
   "cell_type": "code",
   "execution_count": 6,
   "metadata": {},
   "outputs": [],
   "source": [
    "from pyspark.sql.functions import col, size, split\n",
    "from pyspark.sql.functions import col, regexp_replace, length\n",
    "\n",
    "url_regex = r\"(http[s]?://\\S+|www\\.\\S+)\"\n",
    "\n",
    "emails_df = emails_df.withColumn(\"special_char_count\", \n",
    "    length(col(\"Message\")) - length(regexp_replace(col(\"Message\"), r\"[^a-zA-Z0-9\\s]\", \"\"))\n",
    ")\n",
    "\n",
    "emails_df = emails_df.withColumn(\"digit_count\", \n",
    "    length(col(\"Message\")) - length(regexp_replace(col(\"Message\"), r\"\\d\", \"\"))\n",
    ")\n",
    "\n",
    "emails_df = emails_df.withColumn(\n",
    "    \"url_count\", \n",
    "    size(split(col(\"Message\"), url_regex)) - 1\n",
    ")\n"
   ]
  },
  {
   "cell_type": "code",
   "execution_count": 7,
   "metadata": {},
   "outputs": [
    {
     "name": "stdout",
     "output_type": "stream",
     "text": [
      "+--------+--------------------+-----+------------+------------------+-----------+---------+\n",
      "|Category|             Message|label|email_length|special_char_count|digit_count|url_count|\n",
      "+--------+--------------------+-----+------------+------------------+-----------+---------+\n",
      "|    spam|Double mins and t...|    1|         149|                 4|         16|        0|\n",
      "|     ham|They just talking...|    0|          51|                 2|          0|        0|\n",
      "|     ham|Did he say how fa...|    0|         166|                 3|          2|        0|\n",
      "|     ham|You flippin your ...|    0|          26|                 1|          0|        0|\n",
      "|     ham|Eat jap done oso ...|    0|          60|                 7|          2|        0|\n",
      "|     ham|Where at were hun...|    0|          24|                 0|          0|        0|\n",
      "|     ham|I couldn't say no...|    0|         150|                 1|          0|        0|\n",
      "|     ham|Its a site to sim...|    0|          95|                 2|          0|        0|\n",
      "|     ham|No. Its not speci...|    0|         114|                 4|          1|        0|\n",
      "|     ham|Cold. Dont be sad...|    0|          22|                 1|          0|        0|\n",
      "|     ham|R ü comin back fo...|    0|          26|                 2|          0|        0|\n",
      "|    spam|URGENT! Your mobi...|    1|         166|                23|         28|        0|\n",
      "|    spam|FreeMsg: Fancy a ...|    1|         156|                 6|          7|        0|\n",
      "|     ham|What should i eat...|    0|          32|                 0|          0|        0|\n",
      "|     ham|Olol i printed ou...|    0|         139|                 2|          0|        0|\n",
      "|     ham|Am okay. Will soo...|    0|          40|                 2|          0|        0|\n",
      "|     ham|Huh? 6 also canno...|    0|          48|                 3|          1|        0|\n",
      "|     ham|Also remember the...|    0|          45|                 3|          0|        0|\n",
      "|     ham|When is school st...|    0|         180|                 7|          0|        0|\n",
      "|     ham|He needs to stop ...|    0|          63|                 0|          0|        0|\n",
      "+--------+--------------------+-----+------------+------------------+-----------+---------+\n",
      "only showing top 20 rows\n",
      "\n"
     ]
    }
   ],
   "source": [
    "#data cleaning \n",
    "emails_df = emails_df.dropna(subset=[\"Message\", \"label\"])\n",
    "emails_df = emails_df.dropDuplicates()\n",
    "emails_df.show(20)"
   ]
  },
  {
   "cell_type": "code",
   "execution_count": 8,
   "metadata": {},
   "outputs": [
    {
     "name": "stdout",
     "output_type": "stream",
     "text": [
      "+--------+--------------------+-----+------------+------------------+-----------+---------+\n",
      "|Category|             Message|label|email_length|special_char_count|digit_count|url_count|\n",
      "+--------+--------------------+-----+------------+------------------+-----------+---------+\n",
      "|    spam|double mins and t...|    1|         149|                 4|         16|        0|\n",
      "|     ham|they just talking...|    0|          51|                 2|          0|        0|\n",
      "|     ham|did he say how fa...|    0|         166|                 3|          2|        0|\n",
      "|     ham|you flippin your ...|    0|          26|                 1|          0|        0|\n",
      "|     ham|eat jap done oso ...|    0|          60|                 7|          2|        0|\n",
      "|     ham|where at were hun...|    0|          24|                 0|          0|        0|\n",
      "|     ham|i couldn't say no...|    0|         150|                 1|          0|        0|\n",
      "|     ham|its a site to sim...|    0|          95|                 2|          0|        0|\n",
      "|     ham|no. its not speci...|    0|         114|                 4|          1|        0|\n",
      "|     ham|cold. dont be sad...|    0|          22|                 1|          0|        0|\n",
      "|     ham|r ü comin back fo...|    0|          26|                 2|          0|        0|\n",
      "|    spam|urgent! your mobi...|    1|         166|                23|         28|        0|\n",
      "|    spam|freemsg: fancy a ...|    1|         156|                 6|          7|        0|\n",
      "|     ham|what should i eat...|    0|          32|                 0|          0|        0|\n",
      "|     ham|olol i printed ou...|    0|         139|                 2|          0|        0|\n",
      "|     ham|am okay. will soo...|    0|          40|                 2|          0|        0|\n",
      "|     ham|huh? 6 also canno...|    0|          48|                 3|          1|        0|\n",
      "|     ham|also remember the...|    0|          45|                 3|          0|        0|\n",
      "|     ham|when is school st...|    0|         180|                 7|          0|        0|\n",
      "|     ham|he needs to stop ...|    0|          63|                 0|          0|        0|\n",
      "+--------+--------------------+-----+------------+------------------+-----------+---------+\n",
      "only showing top 20 rows\n",
      "\n"
     ]
    }
   ],
   "source": [
    "from pyspark.sql.functions import lower, col\n",
    "\n",
    "emails_df = emails_df.withColumn(\"Message\", lower(col(\"Message\")))\n",
    "emails_df.show(20)"
   ]
  },
  {
   "cell_type": "code",
   "execution_count": 9,
   "metadata": {},
   "outputs": [
    {
     "name": "stdout",
     "output_type": "stream",
     "text": [
      "+--------+--------------------+-----+------------+------------------+-----------+---------+\n",
      "|Category|             Message|label|email_length|special_char_count|digit_count|url_count|\n",
      "+--------+--------------------+-----+------------+------------------+-----------+---------+\n",
      "|    spam|double mins and t...|    1|         149|                 4|         16|        0|\n",
      "|     ham|they just talking...|    0|          51|                 2|          0|        0|\n",
      "|     ham|did he say how fa...|    0|         166|                 3|          2|        0|\n",
      "|     ham|you flippin your ...|    0|          26|                 1|          0|        0|\n",
      "|     ham|eat jap done oso ...|    0|          60|                 7|          2|        0|\n",
      "|     ham|where at were hun...|    0|          24|                 0|          0|        0|\n",
      "|     ham|i couldnt say no ...|    0|         150|                 1|          0|        0|\n",
      "|     ham|its a site to sim...|    0|          95|                 2|          0|        0|\n",
      "|     ham|no its not specia...|    0|         114|                 4|          1|        0|\n",
      "|     ham|cold dont be sad ...|    0|          22|                 1|          0|        0|\n",
      "|     ham|r  comin back for...|    0|          26|                 2|          0|        0|\n",
      "|    spam|urgent your mobil...|    1|         166|                23|         28|        0|\n",
      "|    spam|freemsg fancy a f...|    1|         156|                 6|          7|        0|\n",
      "|     ham|what should i eat...|    0|          32|                 0|          0|        0|\n",
      "|     ham|olol i printed ou...|    0|         139|                 2|          0|        0|\n",
      "|     ham|am okay will soon...|    0|          40|                 2|          0|        0|\n",
      "|     ham|huh  also cannot ...|    0|          48|                 3|          1|        0|\n",
      "|     ham|also remember the...|    0|          45|                 3|          0|        0|\n",
      "|     ham|when is school st...|    0|         180|                 7|          0|        0|\n",
      "|     ham|he needs to stop ...|    0|          63|                 0|          0|        0|\n",
      "+--------+--------------------+-----+------------+------------------+-----------+---------+\n",
      "only showing top 20 rows\n",
      "\n"
     ]
    }
   ],
   "source": [
    "from pyspark.sql.functions import regexp_replace\n",
    "\n",
    "emails_df = emails_df.withColumn(\"Message\", regexp_replace(col(\"Message\"), r'[^a-zA-Z\\s]', ''))\n",
    "emails_df.show(20)"
   ]
  },
  {
   "cell_type": "code",
   "execution_count": 10,
   "metadata": {},
   "outputs": [
    {
     "name": "stdout",
     "output_type": "stream",
     "text": [
      "+--------+--------------------+-----+------------+------------------+-----------+---------+--------------------+--------------------+\n",
      "|Category|             Message|label|email_length|special_char_count|digit_count|url_count|               words|      filtered_words|\n",
      "+--------+--------------------+-----+------------+------------------+-----------+---------+--------------------+--------------------+\n",
      "|    spam|double mins and t...|    1|         149|                 4|         16|        0|[double, mins, an...|[double, mins, tx...|\n",
      "|     ham|they just talking...|    0|          51|                 2|          0|        0|[they, just, talk...|[talking, thats, ...|\n",
      "|     ham|did he say how fa...|    0|         166|                 3|          2|        0|[did, he, say, ho...|[say, fantastic, ...|\n",
      "|     ham|you flippin your ...|    0|          26|                 1|          0|        0|[you, flippin, yo...|[flippin, shit, yet]|\n",
      "|     ham|eat jap done oso ...|    0|          60|                 7|          2|        0|[eat, jap, done, ...|[eat, jap, done, ...|\n",
      "|     ham|where at were hun...|    0|          24|                 0|          0|        0|[where, at, were,...|            [hungry]|\n",
      "|     ham|i couldnt say no ...|    0|         150|                 1|          0|        0|[i, couldnt, say,...|[couldnt, say, dy...|\n",
      "|     ham|its a site to sim...|    0|          95|                 2|          0|        0|[its, a, site, to...|[site, simulate, ...|\n",
      "|     ham|no its not specia...|    0|         114|                 4|          1|        0|[no, its, not, sp...|[specialisation, ...|\n",
      "|     ham|cold dont be sad ...|    0|          22|                 1|          0|        0|[cold, dont, be, ...|[cold, dont, sad,...|\n",
      "|     ham|r  comin back for...|    0|          26|                 2|          0|        0|[r, , comin, back...|[r, , comin, back...|\n",
      "|    spam|urgent your mobil...|    1|         166|                23|         28|        0|[urgent, your, mo...|[urgent, mobile, ...|\n",
      "|    spam|freemsg fancy a f...|    1|         156|                 6|          7|        0|[freemsg, fancy, ...|[freemsg, fancy, ...|\n",
      "|     ham|what should i eat...|    0|          32|                 0|          0|        0|[what, should, i,...|[eat, fo, lunch, ...|\n",
      "|     ham|olol i printed ou...|    0|         139|                 2|          0|        0|[olol, i, printed...|[olol, printed, f...|\n",
      "|     ham|am okay will soon...|    0|          40|                 2|          0|        0|[am, okay, will, ...|  [okay, soon, best]|\n",
      "|     ham|huh  also cannot ...|    0|          48|                 3|          1|        0|[huh, , also, can...|[huh, , also, man...|\n",
      "|     ham|also remember the...|    0|          45|                 3|          0|        0|[also, remember, ...|[also, remember, ...|\n",
      "|     ham|when is school st...|    0|         180|                 7|          0|        0|[when, is, school...|[school, starting...|\n",
      "|     ham|he needs to stop ...|    0|          63|                 0|          0|        0|[he, needs, to, s...|[needs, stop, goi...|\n",
      "+--------+--------------------+-----+------------+------------------+-----------+---------+--------------------+--------------------+\n",
      "only showing top 20 rows\n",
      "\n"
     ]
    }
   ],
   "source": [
    "#tokenize text to words and remove stop words\n",
    "from pyspark.ml.feature import Tokenizer\n",
    "from pyspark.ml.feature import StopWordsRemover\n",
    "\n",
    "tokenizer = Tokenizer(inputCol=\"Message\", outputCol=\"words\")\n",
    "emails_df = tokenizer.transform(emails_df)\n",
    "\n",
    "\n",
    "remover = StopWordsRemover(inputCol=\"words\", outputCol=\"filtered_words\")\n",
    "emails_df = remover.transform(emails_df)\n",
    "\n",
    "emails_df.show(20)\n"
   ]
  },
  {
   "cell_type": "code",
   "execution_count": 11,
   "metadata": {},
   "outputs": [
    {
     "name": "stdout",
     "output_type": "stream",
     "text": [
      "+--------+--------------------+-----+------------+------------------+-----------+---------+--------------------+--------------------+---------------------------+\n",
      "|Category|             Message|label|email_length|special_char_count|digit_count|url_count|               words|      filtered_words|common_phishing_words_count|\n",
      "+--------+--------------------+-----+------------+------------------+-----------+---------+--------------------+--------------------+---------------------------+\n",
      "|    spam|double mins and t...|    1|         149|                 4|         16|        0|[double, mins, an...|[double, mins, tx...|                          1|\n",
      "|     ham|they just talking...|    0|          51|                 2|          0|        0|[they, just, talk...|[talking, thats, ...|                          0|\n",
      "|     ham|did he say how fa...|    0|         166|                 3|          2|        0|[did, he, say, ho...|[say, fantastic, ...|                          0|\n",
      "|     ham|you flippin your ...|    0|          26|                 1|          0|        0|[you, flippin, yo...|[flippin, shit, yet]|                          0|\n",
      "|     ham|eat jap done oso ...|    0|          60|                 7|          2|        0|[eat, jap, done, ...|[eat, jap, done, ...|                          0|\n",
      "|     ham|where at were hun...|    0|          24|                 0|          0|        0|[where, at, were,...|            [hungry]|                          0|\n",
      "|     ham|i couldnt say no ...|    0|         150|                 1|          0|        0|[i, couldnt, say,...|[couldnt, say, dy...|                          0|\n",
      "|     ham|its a site to sim...|    0|          95|                 2|          0|        0|[its, a, site, to...|[site, simulate, ...|                          0|\n",
      "|     ham|no its not specia...|    0|         114|                 4|          1|        0|[no, its, not, sp...|[specialisation, ...|                          0|\n",
      "|     ham|cold dont be sad ...|    0|          22|                 1|          0|        0|[cold, dont, be, ...|[cold, dont, sad,...|                          0|\n",
      "|     ham|r  comin back for...|    0|          26|                 2|          0|        0|[r, , comin, back...|[r, , comin, back...|                          0|\n",
      "|    spam|urgent your mobil...|    1|         166|                23|         28|        0|[urgent, your, mo...|[urgent, mobile, ...|                          2|\n",
      "|    spam|freemsg fancy a f...|    1|         156|                 6|          7|        0|[freemsg, fancy, ...|[freemsg, fancy, ...|                          0|\n",
      "|     ham|what should i eat...|    0|          32|                 0|          0|        0|[what, should, i,...|[eat, fo, lunch, ...|                          0|\n",
      "|     ham|olol i printed ou...|    0|         139|                 2|          0|        0|[olol, i, printed...|[olol, printed, f...|                          0|\n",
      "|     ham|am okay will soon...|    0|          40|                 2|          0|        0|[am, okay, will, ...|  [okay, soon, best]|                          0|\n",
      "|     ham|huh  also cannot ...|    0|          48|                 3|          1|        0|[huh, , also, can...|[huh, , also, man...|                          0|\n",
      "|     ham|also remember the...|    0|          45|                 3|          0|        0|[also, remember, ...|[also, remember, ...|                          0|\n",
      "|     ham|when is school st...|    0|         180|                 7|          0|        0|[when, is, school...|[school, starting...|                          0|\n",
      "|     ham|he needs to stop ...|    0|          63|                 0|          0|        0|[he, needs, to, s...|[needs, stop, goi...|                          0|\n",
      "+--------+--------------------+-----+------------+------------------+-----------+---------+--------------------+--------------------+---------------------------+\n",
      "only showing top 20 rows\n",
      "\n"
     ]
    }
   ],
   "source": [
    "from pyspark.sql.functions import col, size, array_intersect, lit\n",
    "\n",
    "common_phishing_words = [\"free\", \"win\", \"urgent\", \"money\", \"offer\", \"click\", \"prize\"]\n",
    "\n",
    "# Compute the count of common phishing words in 'filtered_words'\n",
    "emails_df = emails_df.withColumn(\n",
    "    \"common_phishing_words_count\",\n",
    "    size(array_intersect(col(\"filtered_words\"), lit(common_phishing_words)))\n",
    ")\n",
    "\n",
    "emails_df.show(20)\n"
   ]
  },
  {
   "cell_type": "code",
   "execution_count": 12,
   "metadata": {},
   "outputs": [
    {
     "name": "stdout",
     "output_type": "stream",
     "text": [
      "+--------+--------------------+-----+------------+------------------+-----------+---------+--------------------+--------------------+---------------------------+----------+\n",
      "|Category|             Message|label|email_length|special_char_count|digit_count|url_count|               words|      filtered_words|common_phishing_words_count|word_count|\n",
      "+--------+--------------------+-----+------------+------------------+-----------+---------+--------------------+--------------------+---------------------------+----------+\n",
      "|    spam|double mins and t...|    1|         149|                 4|         16|        0|[double, mins, an...|[double, mins, tx...|                          1|        17|\n",
      "|     ham|they just talking...|    0|          51|                 2|          0|        0|[they, just, talk...|[talking, thats, ...|                          0|         4|\n",
      "|     ham|did he say how fa...|    0|         166|                 3|          2|        0|[did, he, say, ho...|[say, fantastic, ...|                          0|        19|\n",
      "|     ham|you flippin your ...|    0|          26|                 1|          0|        0|[you, flippin, yo...|[flippin, shit, yet]|                          0|         3|\n",
      "|     ham|eat jap done oso ...|    0|          60|                 7|          2|        0|[eat, jap, done, ...|[eat, jap, done, ...|                          0|        13|\n",
      "|     ham|where at were hun...|    0|          24|                 0|          0|        0|[where, at, were,...|            [hungry]|                          0|         1|\n",
      "|     ham|i couldnt say no ...|    0|         150|                 1|          0|        0|[i, couldnt, say,...|[couldnt, say, dy...|                          0|        13|\n",
      "|     ham|its a site to sim...|    0|          95|                 2|          0|        0|[its, a, site, to...|[site, simulate, ...|                          0|         8|\n",
      "|     ham|no its not specia...|    0|         114|                 4|          1|        0|[no, its, not, sp...|[specialisation, ...|                          0|        11|\n",
      "|     ham|cold dont be sad ...|    0|          22|                 1|          0|        0|[cold, dont, be, ...|[cold, dont, sad,...|                          0|         4|\n",
      "|     ham|r  comin back for...|    0|          26|                 2|          0|        0|[r, , comin, back...|[r, , comin, back...|                          0|         5|\n",
      "|    spam|urgent your mobil...|    1|         166|                23|         28|        0|[urgent, your, mo...|[urgent, mobile, ...|                          2|        19|\n",
      "|    spam|freemsg fancy a f...|    1|         156|                 6|          7|        0|[freemsg, fancy, ...|[freemsg, fancy, ...|                          0|        22|\n",
      "|     ham|what should i eat...|    0|          32|                 0|          0|        0|[what, should, i,...|[eat, fo, lunch, ...|                          0|         4|\n",
      "|     ham|olol i printed ou...|    0|         139|                 2|          0|        0|[olol, i, printed...|[olol, printed, f...|                          0|        14|\n",
      "|     ham|am okay will soon...|    0|          40|                 2|          0|        0|[am, okay, will, ...|  [okay, soon, best]|                          0|         3|\n",
      "|     ham|huh  also cannot ...|    0|          48|                 3|          1|        0|[huh, , also, can...|[huh, , also, man...|                          0|         5|\n",
      "|     ham|also remember the...|    0|          45|                 3|          0|        0|[also, remember, ...|[also, remember, ...|                          0|         6|\n",
      "|     ham|when is school st...|    0|         180|                 7|          0|        0|[when, is, school...|[school, starting...|                          0|        15|\n",
      "|     ham|he needs to stop ...|    0|          63|                 0|          0|        0|[he, needs, to, s...|[needs, stop, goi...|                          0|         7|\n",
      "+--------+--------------------+-----+------------+------------------+-----------+---------+--------------------+--------------------+---------------------------+----------+\n",
      "only showing top 20 rows\n",
      "\n"
     ]
    }
   ],
   "source": [
    "from pyspark.sql.functions import size\n",
    "\n",
    "emails_df = emails_df.withColumn(\"word_count\", size(col(\"filtered_words\")))\n",
    "emails_df.show(20)"
   ]
  },
  {
   "cell_type": "code",
   "execution_count": 13,
   "metadata": {},
   "outputs": [
    {
     "name": "stdout",
     "output_type": "stream",
     "text": [
      "+-----+-----+\n",
      "|label|count|\n",
      "+-----+-----+\n",
      "|    1|  502|\n",
      "|    0| 3660|\n",
      "+-----+-----+\n",
      "\n",
      "+-----+-----+\n",
      "|label|count|\n",
      "+-----+-----+\n",
      "|    1|  139|\n",
      "|    0|  858|\n",
      "+-----+-----+\n",
      "\n"
     ]
    }
   ],
   "source": [
    "train_ratio = 0.8\n",
    "emails_train_df, emails_test_df = emails_df.randomSplit([train_ratio, 1 - train_ratio], seed=42)\n",
    "\n",
    "train_counts = emails_train_df.groupBy(\"label\").count()\n",
    "test_counts = emails_test_df.groupBy(\"label\").count()\n",
    "\n",
    "train_counts.show()\n",
    "test_counts.show()"
   ]
  },
  {
   "cell_type": "code",
   "execution_count": 14,
   "metadata": {},
   "outputs": [
    {
     "data": {
      "image/png": "[encoded data removed]",
      "text/plain": [
       "<Figure size 600x600 with 1 Axes>"
      ]
     },
     "metadata": {},
     "output_type": "display_data"
    },
    {
     "data": {
      "image/png": "[encoded data removed]",
      "text/plain": [
       "<Figure size 600x600 with 1 Axes>"
      ]
     },
     "metadata": {},
     "output_type": "display_data"
    }
   ],
   "source": [
    "import matplotlib.pyplot as plt\n",
    "\n",
    "# Convert the results into dictionaries for easier visualization\n",
    "train_counts_dict = {row[\"label\"]: row[\"count\"] for row in train_counts.collect()}\n",
    "test_counts_dict = {row[\"label\"]: row[\"count\"] for row in test_counts.collect()}\n",
    "\n",
    "# Prepare data for the pie chart\n",
    "def plot_pie_chart(data_dict, title):\n",
    "    labels = [f\"Class {label}\" for label in data_dict.keys()]\n",
    "    sizes = data_dict.values()\n",
    "\n",
    "    plt.figure(figsize=(6, 6))\n",
    "    plt.pie(sizes, labels=labels, autopct='%1.1f%%', startangle=140, colors=[\"#ff9999\", \"#66b3ff\"])\n",
    "    plt.title(title)\n",
    "    plt.show()\n",
    "\n",
    "plot_pie_chart(train_counts_dict, \"Training Set Label Distribution\")\n",
    "plot_pie_chart(test_counts_dict, \"Testing Set Label Distribution\")"
   ]
  },
  {
   "cell_type": "code",
   "execution_count": 15,
   "metadata": {},
   "outputs": [],
   "source": [
    "from pyspark.ml.feature import VectorAssembler\n",
    "\n",
    "feature_columns = [\"email_length\", \"special_char_count\", \"digit_count\", \"url_count\", \n",
    "                   \"common_phishing_words_count\", \"word_count\"]\n",
    "assembler = VectorAssembler(inputCols=feature_columns, outputCol=\"features\")\n",
    "\n",
    "emails_train_df = assembler.transform(emails_train_df)\n",
    "emails_test_df = assembler.transform(emails_test_df)"
   ]
  },
  {
   "cell_type": "code",
   "execution_count": 16,
   "metadata": {},
   "outputs": [
    {
     "name": "stdout",
     "output_type": "stream",
     "text": [
      "+--------+--------------------+-----+------------+------------------+-----------+---------+--------------------+--------------------+---------------------------+----------+------------------+\n",
      "|Category|             Message|label|email_length|special_char_count|digit_count|url_count|               words|      filtered_words|common_phishing_words_count|word_count|     class_weights|\n",
      "+--------+--------------------+-----+------------+------------------+-----------+---------+--------------------+--------------------+---------------------------+----------+------------------+\n",
      "|    spam|double mins and t...|    1|         149|                 4|         16|        0|[double, mins, an...|[double, mins, tx...|                          1|        17| 8.048361934477379|\n",
      "|     ham|they just talking...|    0|          51|                 2|          0|        0|[they, just, talk...|[talking, thats, ...|                          0|         4|1.1418769366976538|\n",
      "|     ham|did he say how fa...|    0|         166|                 3|          2|        0|[did, he, say, ho...|[say, fantastic, ...|                          0|        19|1.1418769366976538|\n",
      "|     ham|you flippin your ...|    0|          26|                 1|          0|        0|[you, flippin, yo...|[flippin, shit, yet]|                          0|         3|1.1418769366976538|\n",
      "|     ham|eat jap done oso ...|    0|          60|                 7|          2|        0|[eat, jap, done, ...|[eat, jap, done, ...|                          0|        13|1.1418769366976538|\n",
      "+--------+--------------------+-----+------------+------------------+-----------+---------+--------------------+--------------------+---------------------------+----------+------------------+\n",
      "only showing top 5 rows\n",
      "\n"
     ]
    }
   ],
   "source": [
    "from pyspark.sql.functions import col, when\n",
    "\n",
    "total_count = emails_df.count()\n",
    "count_class_0 = emails_df.filter(col(\"label\") == 0).count()\n",
    "count_class_1 = emails_df.filter(col(\"label\") == 1).count()\n",
    "\n",
    "# Calculate class weights\n",
    "class_weights = {\n",
    "    0: total_count / count_class_0,\n",
    "    1: total_count / count_class_1\n",
    "}\n",
    "\n",
    "# Add class_weights column to the DataFrame\n",
    "emails_df = emails_df.withColumn(\n",
    "    \"class_weights\",\n",
    "    when(col(\"label\") == 1, class_weights[1]).otherwise(class_weights[0])\n",
    ")\n",
    "emails_df.show(5)\n"
   ]
  },
  {
   "cell_type": "code",
   "execution_count": null,
   "metadata": {},
   "outputs": [
    {
     "ename": "IllegalArgumentException",
     "evalue": "class_weights does not exist. Available: Category, Message, label, email_length, special_char_count, digit_count, url_count, words, filtered_words, common_phishing_words_count, word_count, features",
     "output_type": "error",
     "traceback": [
      "\u001b[1;31m---------------------------------------------------------------------------\u001b[0m",
      "\u001b[1;31mIllegalArgumentException\u001b[0m                  Traceback (most recent call last)",
      "Cell \u001b[1;32mIn[17], line 7\u001b[0m\n\u001b[0;32m      4\u001b[0m lr \u001b[38;5;241m=\u001b[39m LogisticRegression(featuresCol\u001b[38;5;241m=\u001b[39m\u001b[38;5;124m\"\u001b[39m\u001b[38;5;124mfeatures\u001b[39m\u001b[38;5;124m\"\u001b[39m, labelCol\u001b[38;5;241m=\u001b[39m\u001b[38;5;124m\"\u001b[39m\u001b[38;5;124mlabel\u001b[39m\u001b[38;5;124m\"\u001b[39m,weightCol\u001b[38;5;241m=\u001b[39m\u001b[38;5;124m\"\u001b[39m\u001b[38;5;124mclass_weights\u001b[39m\u001b[38;5;124m\"\u001b[39m)\n\u001b[0;32m      6\u001b[0m \u001b[38;5;66;03m# Train the model\u001b[39;00m\n\u001b[1;32m----> 7\u001b[0m lr_model \u001b[38;5;241m=\u001b[39m \u001b[43mlr\u001b[49m\u001b[38;5;241;43m.\u001b[39;49m\u001b[43mfit\u001b[49m\u001b[43m(\u001b[49m\u001b[43memails_train_df\u001b[49m\u001b[43m)\u001b[49m\n",
      "File \u001b[1;32mc:\\Users\\sarra\\AppData\\Local\\Programs\\Python\\Python313\\Lib\\site-packages\\pyspark\\ml\\base.py:205\u001b[0m, in \u001b[0;36mEstimator.fit\u001b[1;34m(self, dataset, params)\u001b[0m\n\u001b[0;32m    203\u001b[0m         \u001b[38;5;28;01mreturn\u001b[39;00m \u001b[38;5;28mself\u001b[39m\u001b[38;5;241m.\u001b[39mcopy(params)\u001b[38;5;241m.\u001b[39m_fit(dataset)\n\u001b[0;32m    204\u001b[0m     \u001b[38;5;28;01melse\u001b[39;00m:\n\u001b[1;32m--> 205\u001b[0m         \u001b[38;5;28;01mreturn\u001b[39;00m \u001b[38;5;28;43mself\u001b[39;49m\u001b[38;5;241;43m.\u001b[39;49m\u001b[43m_fit\u001b[49m\u001b[43m(\u001b[49m\u001b[43mdataset\u001b[49m\u001b[43m)\u001b[49m\n\u001b[0;32m    206\u001b[0m \u001b[38;5;28;01melse\u001b[39;00m:\n\u001b[0;32m    207\u001b[0m     \u001b[38;5;28;01mraise\u001b[39;00m \u001b[38;5;167;01mTypeError\u001b[39;00m(\n\u001b[0;32m    208\u001b[0m         \u001b[38;5;124m\"\u001b[39m\u001b[38;5;124mParams must be either a param map or a list/tuple of param maps, \u001b[39m\u001b[38;5;124m\"\u001b[39m\n\u001b[0;32m    209\u001b[0m         \u001b[38;5;124m\"\u001b[39m\u001b[38;5;124mbut got \u001b[39m\u001b[38;5;132;01m%s\u001b[39;00m\u001b[38;5;124m.\u001b[39m\u001b[38;5;124m\"\u001b[39m \u001b[38;5;241m%\u001b[39m \u001b[38;5;28mtype\u001b[39m(params)\n\u001b[0;32m    210\u001b[0m     )\n",
      "File \u001b[1;32mc:\\Users\\sarra\\AppData\\Local\\Programs\\Python\\Python313\\Lib\\site-packages\\pyspark\\ml\\wrapper.py:381\u001b[0m, in \u001b[0;36mJavaEstimator._fit\u001b[1;34m(self, dataset)\u001b[0m\n\u001b[0;32m    380\u001b[0m \u001b[38;5;28;01mdef\u001b[39;00m \u001b[38;5;21m_fit\u001b[39m(\u001b[38;5;28mself\u001b[39m, dataset: DataFrame) \u001b[38;5;241m-\u001b[39m\u001b[38;5;241m>\u001b[39m JM:\n\u001b[1;32m--> 381\u001b[0m     java_model \u001b[38;5;241m=\u001b[39m \u001b[38;5;28;43mself\u001b[39;49m\u001b[38;5;241;43m.\u001b[39;49m\u001b[43m_fit_java\u001b[49m\u001b[43m(\u001b[49m\u001b[43mdataset\u001b[49m\u001b[43m)\u001b[49m\n\u001b[0;32m    382\u001b[0m     model \u001b[38;5;241m=\u001b[39m \u001b[38;5;28mself\u001b[39m\u001b[38;5;241m.\u001b[39m_create_model(java_model)\n\u001b[0;32m    383\u001b[0m     \u001b[38;5;28;01mreturn\u001b[39;00m \u001b[38;5;28mself\u001b[39m\u001b[38;5;241m.\u001b[39m_copyValues(model)\n",
      "File \u001b[1;32mc:\\Users\\sarra\\AppData\\Local\\Programs\\Python\\Python313\\Lib\\site-packages\\pyspark\\ml\\wrapper.py:378\u001b[0m, in \u001b[0;36mJavaEstimator._fit_java\u001b[1;34m(self, dataset)\u001b[0m\n\u001b[0;32m    375\u001b[0m \u001b[38;5;28;01massert\u001b[39;00m \u001b[38;5;28mself\u001b[39m\u001b[38;5;241m.\u001b[39m_java_obj \u001b[38;5;129;01mis\u001b[39;00m \u001b[38;5;129;01mnot\u001b[39;00m \u001b[38;5;28;01mNone\u001b[39;00m\n\u001b[0;32m    377\u001b[0m \u001b[38;5;28mself\u001b[39m\u001b[38;5;241m.\u001b[39m_transfer_params_to_java()\n\u001b[1;32m--> 378\u001b[0m \u001b[38;5;28;01mreturn\u001b[39;00m \u001b[38;5;28;43mself\u001b[39;49m\u001b[38;5;241;43m.\u001b[39;49m\u001b[43m_java_obj\u001b[49m\u001b[38;5;241;43m.\u001b[39;49m\u001b[43mfit\u001b[49m\u001b[43m(\u001b[49m\u001b[43mdataset\u001b[49m\u001b[38;5;241;43m.\u001b[39;49m\u001b[43m_jdf\u001b[49m\u001b[43m)\u001b[49m\n",
      "File \u001b[1;32mc:\\Users\\sarra\\AppData\\Local\\Programs\\Python\\Python313\\Lib\\site-packages\\py4j\\java_gateway.py:1322\u001b[0m, in \u001b[0;36mJavaMember.__call__\u001b[1;34m(self, *args)\u001b[0m\n\u001b[0;32m   1316\u001b[0m command \u001b[38;5;241m=\u001b[39m proto\u001b[38;5;241m.\u001b[39mCALL_COMMAND_NAME \u001b[38;5;241m+\u001b[39m\\\n\u001b[0;32m   1317\u001b[0m     \u001b[38;5;28mself\u001b[39m\u001b[38;5;241m.\u001b[39mcommand_header \u001b[38;5;241m+\u001b[39m\\\n\u001b[0;32m   1318\u001b[0m     args_command \u001b[38;5;241m+\u001b[39m\\\n\u001b[0;32m   1319\u001b[0m     proto\u001b[38;5;241m.\u001b[39mEND_COMMAND_PART\n\u001b[0;32m   1321\u001b[0m answer \u001b[38;5;241m=\u001b[39m \u001b[38;5;28mself\u001b[39m\u001b[38;5;241m.\u001b[39mgateway_client\u001b[38;5;241m.\u001b[39msend_command(command)\n\u001b[1;32m-> 1322\u001b[0m return_value \u001b[38;5;241m=\u001b[39m \u001b[43mget_return_value\u001b[49m\u001b[43m(\u001b[49m\n\u001b[0;32m   1323\u001b[0m \u001b[43m    \u001b[49m\u001b[43manswer\u001b[49m\u001b[43m,\u001b[49m\u001b[43m \u001b[49m\u001b[38;5;28;43mself\u001b[39;49m\u001b[38;5;241;43m.\u001b[39;49m\u001b[43mgateway_client\u001b[49m\u001b[43m,\u001b[49m\u001b[43m \u001b[49m\u001b[38;5;28;43mself\u001b[39;49m\u001b[38;5;241;43m.\u001b[39;49m\u001b[43mtarget_id\u001b[49m\u001b[43m,\u001b[49m\u001b[43m \u001b[49m\u001b[38;5;28;43mself\u001b[39;49m\u001b[38;5;241;43m.\u001b[39;49m\u001b[43mname\u001b[49m\u001b[43m)\u001b[49m\n\u001b[0;32m   1325\u001b[0m \u001b[38;5;28;01mfor\u001b[39;00m temp_arg \u001b[38;5;129;01min\u001b[39;00m temp_args:\n\u001b[0;32m   1326\u001b[0m     \u001b[38;5;28;01mif\u001b[39;00m \u001b[38;5;28mhasattr\u001b[39m(temp_arg, \u001b[38;5;124m\"\u001b[39m\u001b[38;5;124m_detach\u001b[39m\u001b[38;5;124m\"\u001b[39m):\n",
      "File \u001b[1;32mc:\\Users\\sarra\\AppData\\Local\\Programs\\Python\\Python313\\Lib\\site-packages\\pyspark\\errors\\exceptions\\captured.py:185\u001b[0m, in \u001b[0;36mcapture_sql_exception.<locals>.deco\u001b[1;34m(*a, **kw)\u001b[0m\n\u001b[0;32m    181\u001b[0m converted \u001b[38;5;241m=\u001b[39m convert_exception(e\u001b[38;5;241m.\u001b[39mjava_exception)\n\u001b[0;32m    182\u001b[0m \u001b[38;5;28;01mif\u001b[39;00m \u001b[38;5;129;01mnot\u001b[39;00m \u001b[38;5;28misinstance\u001b[39m(converted, UnknownException):\n\u001b[0;32m    183\u001b[0m     \u001b[38;5;66;03m# Hide where the exception came from that shows a non-Pythonic\u001b[39;00m\n\u001b[0;32m    184\u001b[0m     \u001b[38;5;66;03m# JVM exception message.\u001b[39;00m\n\u001b[1;32m--> 185\u001b[0m     \u001b[38;5;28;01mraise\u001b[39;00m converted \u001b[38;5;28;01mfrom\u001b[39;00m \u001b[38;5;28;01mNone\u001b[39;00m\n\u001b[0;32m    186\u001b[0m \u001b[38;5;28;01melse\u001b[39;00m:\n\u001b[0;32m    187\u001b[0m     \u001b[38;5;28;01mraise\u001b[39;00m\n",
      "\u001b[1;31mIllegalArgumentException\u001b[0m: class_weights does not exist. Available: Category, Message, label, email_length, special_char_count, digit_count, url_count, words, filtered_words, common_phishing_words_count, word_count, features"
     ]
    }
   ],
   "source": [
    "from pyspark.ml.classification import LogisticRegression\n",
    "\n",
    "# Define Logistic Regression model\n",
    "lr = LogisticRegression(featuresCol=\"features\", labelCol=\"label\")\n",
    "\n",
    "# Train the model\n",
    "lr_model = lr.fit(emails_train_df)\n",
    "\n",
    "\n"
   ]
  },
  {
   "cell_type": "code",
   "execution_count": null,
   "metadata": {},
   "outputs": [],
   "source": [
    "# Make predictions\n",
    "predictions = lr_model.transform(emails_test_df)"
   ]
  },
  {
   "cell_type": "code",
   "execution_count": null,
   "metadata": {},
   "outputs": [],
   "source": [
    "predictions.select(\"Message\", \"label\", \"prediction\", \"probability\").show(900)"
   ]
  },
  {
   "cell_type": "code",
   "execution_count": null,
   "metadata": {},
   "outputs": [],
   "source": [
    "predictions.filter(predictions.label != predictions.prediction).select(\"Message\", \"label\", \"prediction\", \"probability\").show(100)\n"
   ]
  },
  {
   "cell_type": "code",
   "execution_count": null,
   "metadata": {},
   "outputs": [],
   "source": [
    "correct_predictions = predictions.filter(predictions.label == predictions.prediction).count()\n",
    "total_predictions = predictions.count()\n",
    "accuracy = correct_predictions / total_predictions\n",
    "\n",
    "print(f\"Accuracy: {accuracy:.2f}\")"
   ]
  },
  {
   "cell_type": "code",
   "execution_count": null,
   "metadata": {},
   "outputs": [],
   "source": [
    "import matplotlib.pyplot as plt\n",
    "\n",
    "# Calculate counts for correct and incorrect predictions\n",
    "correct_predictions = predictions.filter(predictions.label == predictions.prediction)\n",
    "incorrect_predictions = predictions.filter(predictions.label != predictions.prediction)\n",
    "\n",
    "# Count the total number of predictions\n",
    "total_predictions = predictions.count()\n",
    "\n",
    "# Calculate overall counts\n",
    "correct_count = correct_predictions.count()\n",
    "incorrect_count = incorrect_predictions.count()\n",
    "\n",
    "# Calculate percentages\n",
    "correct_percentage = (correct_count / total_predictions) * 100\n",
    "incorrect_percentage = (incorrect_count / total_predictions) * 100\n",
    "\n",
    "# Count correct and incorrect predictions by label\n",
    "correct_label_0 = correct_predictions.filter(correct_predictions.label == 0).count()\n",
    "correct_label_1 = correct_predictions.filter(correct_predictions.label == 1).count()\n",
    "incorrect_label_0 = incorrect_predictions.filter(incorrect_predictions.label == 0).count()\n",
    "incorrect_label_1 = incorrect_predictions.filter(incorrect_predictions.label == 1).count()\n",
    "\n",
    "# Print details\n",
    "print(f\"Correct Predictions: {correct_count} ({correct_percentage:.2f}%)\")\n",
    "print(f\"  Correct Label 0: {correct_label_0}\")\n",
    "print(f\"  Correct Label 1: {correct_label_1}\")\n",
    "print(f\"Incorrect Predictions: {incorrect_count} ({incorrect_percentage:.2f}%)\")\n",
    "print(f\"  Incorrect Label 0: {incorrect_label_0}\")\n",
    "print(f\"  Incorrect Label 1: {incorrect_label_1}\")\n",
    "\n",
    "# Prepare data for bar chart\n",
    "categories = ['Correct Predictions', 'Incorrect Predictions']\n",
    "counts = [correct_count, incorrect_count]\n",
    "percentages = [correct_percentage, incorrect_percentage]\n",
    "\n",
    "# Bar chart\n",
    "plt.figure(figsize=(10, 6))\n",
    "bars = plt.bar(categories, counts, color=['#4CAF50', '#F44336'])\n",
    "\n",
    "# Annotate bars with percentages\n",
    "for bar, percentage in zip(bars, percentages):\n",
    "    plt.text(bar.get_x() + bar.get_width() / 2, bar.get_height() +5, f'{percentage:.2f}%', \n",
    "             ha='center', va='bottom', fontsize=12)\n",
    "\n",
    "plt.title('Correct vs. Incorrect Predictions')\n",
    "plt.ylabel('Number of Predictions')\n",
    "plt.xlabel('Prediction Category')\n",
    "\n",
    "# Add detailed breakdown as text annotation\n",
    "details = (f\"Correct (0): {correct_label_0}\\n\"\n",
    "           f\"Correct (1): {correct_label_1}\\n\"\n",
    "           f\"Incorrect (0): {incorrect_label_0}\\n\"\n",
    "           f\"Incorrect (1): {incorrect_label_1}\")\n",
    "plt.gca().text(1.1, 0.5, details, transform=plt.gca().transAxes, fontsize=10, verticalalignment='center')\n",
    "\n",
    "plt.show()\n"
   ]
  }
 ],
 "metadata": {
  "kernelspec": {
   "display_name": "Python 3",
   "language": "python",
   "name": "python3"
  },
  "language_info": {
   "codemirror_mode": {
    "name": "ipython",
    "version": 3
   },
   "file_extension": ".py",
   "mimetype": "text/x-python",
   "name": "python",
   "nbconvert_exporter": "python",
   "pygments_lexer": "ipython3",
   "version": "3.13.0"
  }
 },
 "nbformat": 4,
 "nbformat_minor": 2
}
